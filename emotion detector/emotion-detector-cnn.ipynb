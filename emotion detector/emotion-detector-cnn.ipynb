{
 "cells": [
  {
   "cell_type": "code",
   "execution_count": 13,
   "metadata": {
    "_cell_guid": "b1076dfc-b9ad-4769-8c92-a6c4dae69d19",
    "_uuid": "8f2839f25d086af736a60e9eeb907d3b93b6e0e5",
    "execution": {
     "iopub.execute_input": "2024-10-28T16:06:58.849692Z",
     "iopub.status.busy": "2024-10-28T16:06:58.849350Z",
     "iopub.status.idle": "2024-10-28T16:06:58.854352Z",
     "shell.execute_reply": "2024-10-28T16:06:58.853277Z",
     "shell.execute_reply.started": "2024-10-28T16:06:58.849661Z"
    },
    "trusted": true
   },
   "outputs": [],
   "source": [
    "# This Python 3 environment comes with many helpful analytics libraries installed\n",
    "# It is defined by the kaggle/python Docker image: https://github.com/kaggle/docker-python\n",
    "# For example, here's several helpful packages to load\n",
    "\n",
    "import numpy as np # linear algebra\n",
    "import pandas as pd # data processing, CSV file I/O (e.g. pd.read_csv)\n",
    "\n",
    "# Input data files are available in the read-only \"../input/\" directory\n",
    "# For example, running this (by clicking run or pressing Shift+Enter) will list all files under the input directory\n",
    "\n",
    "# import os\n",
    "# for dirname, _, filenames in os.walk('/kaggle/input'):\n",
    "#     for filename in filenames:\n",
    "#         print(os.path.join(dirname, filename))\n",
    "\n",
    "# You can write up to 20GB to the current directory (/kaggle/working/) that gets preserved as output when you create a version using \"Save & Run All\" \n",
    "# You can also write temporary files to /kaggle/temp/, but they won't be saved outside of the current session"
   ]
  },
  {
   "cell_type": "code",
   "execution_count": null,
   "metadata": {
    "execution": {
     "iopub.execute_input": "2024-10-28T16:07:00.487322Z",
     "iopub.status.busy": "2024-10-28T16:07:00.486796Z",
     "iopub.status.idle": "2024-10-28T16:07:00.494125Z",
     "shell.execute_reply": "2024-10-28T16:07:00.493191Z",
     "shell.execute_reply.started": "2024-10-28T16:07:00.487274Z"
    },
    "trusted": true
   },
   "outputs": [],
   "source": [
    "import numpy as np \n",
    "import pandas as pd \n",
    "import matplotlib.pyplot as plt\n",
    "import seaborn as sns\n",
    "import tensorflow as tf\n",
    "import keras\n",
    "from keras.preprocessing import image\n",
    "from keras.models import Sequential\n",
    "from keras.layers import Conv2D, MaxPool2D, Flatten,Dense,Dropout,BatchNormalization\n",
    "from tensorflow.keras.preprocessing.image import ImageDataGenerator\n",
    "import cv2\n",
    "from keras import regularizers\n",
    "from tensorflow.keras.optimizers import Adam\n"
   ]
  },
  {
   "cell_type": "code",
   "execution_count": null,
   "metadata": {
    "execution": {
     "iopub.execute_input": "2024-10-28T16:07:00.496088Z",
     "iopub.status.busy": "2024-10-28T16:07:00.495717Z",
     "iopub.status.idle": "2024-10-28T16:07:00.505195Z",
     "shell.execute_reply": "2024-10-28T16:07:00.504281Z",
     "shell.execute_reply.started": "2024-10-28T16:07:00.496053Z"
    },
    "trusted": true
   },
   "outputs": [],
   "source": [
    "train_dir = \"/kaggle/input/fer2013/train\"\n",
    "test_dir = \"/kaggle/input/fer2013/test\""
   ]
  },
  {
   "cell_type": "code",
   "execution_count": 16,
   "metadata": {
    "execution": {
     "iopub.execute_input": "2024-10-28T16:07:00.507326Z",
     "iopub.status.busy": "2024-10-28T16:07:00.506952Z",
     "iopub.status.idle": "2024-10-28T16:07:00.515791Z",
     "shell.execute_reply": "2024-10-28T16:07:00.515049Z",
     "shell.execute_reply.started": "2024-10-28T16:07:00.507289Z"
    },
    "trusted": true
   },
   "outputs": [],
   "source": [
    "img_size = 48"
   ]
  },
  {
   "cell_type": "code",
   "execution_count": 17,
   "metadata": {
    "execution": {
     "iopub.execute_input": "2024-10-28T16:07:03.572479Z",
     "iopub.status.busy": "2024-10-28T16:07:03.572110Z",
     "iopub.status.idle": "2024-10-28T16:07:03.577825Z",
     "shell.execute_reply": "2024-10-28T16:07:03.576799Z",
     "shell.execute_reply.started": "2024-10-28T16:07:03.572449Z"
    },
    "trusted": true
   },
   "outputs": [],
   "source": [
    "train_datagen = ImageDataGenerator(#rotation_range = 180,\n",
    "                                         width_shift_range = 0.1,\n",
    "                                         height_shift_range = 0.1,\n",
    "                                         horizontal_flip = True,\n",
    "                                         rescale = 1./255,\n",
    "                                         #zoom_range = 0.2,\n",
    "                                         validation_split = 0.2\n",
    "                                        )\n",
    "validation_datagen = ImageDataGenerator(rescale = 1./255,\n",
    "                                         validation_split = 0.2)"
   ]
  },
  {
   "cell_type": "code",
   "execution_count": 18,
   "metadata": {
    "execution": {
     "iopub.execute_input": "2024-10-28T16:07:04.087821Z",
     "iopub.status.busy": "2024-10-28T16:07:04.087481Z",
     "iopub.status.idle": "2024-10-28T16:07:11.654045Z",
     "shell.execute_reply": "2024-10-28T16:07:11.653005Z",
     "shell.execute_reply.started": "2024-10-28T16:07:04.087792Z"
    },
    "trusted": true
   },
   "outputs": [
    {
     "name": "stdout",
     "output_type": "stream",
     "text": [
      "Found 22968 images belonging to 7 classes.\n",
      "Found 1432 images belonging to 7 classes.\n"
     ]
    }
   ],
   "source": [
    "train_generator = train_datagen.flow_from_directory(directory = train_dir,\n",
    "                                                    target_size = (img_size,img_size),\n",
    "                                                    batch_size = 64,\n",
    "                                                    color_mode = \"grayscale\",\n",
    "                                                    class_mode = \"categorical\",\n",
    "                                                    subset = \"training\"\n",
    "                                                   )\n",
    "validation_generator = validation_datagen.flow_from_directory( directory = test_dir,\n",
    "                                                              target_size = (img_size,img_size),\n",
    "                                                              batch_size = 64,\n",
    "                                                              color_mode = \"grayscale\",\n",
    "                                                              class_mode = \"categorical\",\n",
    "                                                              subset = \"validation\"\n",
    "                                                             )"
   ]
  },
  {
   "cell_type": "code",
   "execution_count": 19,
   "metadata": {
    "execution": {
     "iopub.execute_input": "2024-10-28T16:07:11.655705Z",
     "iopub.status.busy": "2024-10-28T16:07:11.655432Z",
     "iopub.status.idle": "2024-10-28T16:07:11.834674Z",
     "shell.execute_reply": "2024-10-28T16:07:11.833965Z",
     "shell.execute_reply.started": "2024-10-28T16:07:11.655679Z"
    },
    "trusted": true
   },
   "outputs": [],
   "source": [
    "model = tf.keras.Sequential([\n",
    "\n",
    "        # input layer\n",
    "        tf.keras.layers.Conv2D(32,(3,3),activation = 'relu',input_shape=(48,48,1)),\n",
    "        tf.keras.layers.Conv2D(64,(3,3), padding='same', activation='relu' ),\n",
    "        tf.keras.layers.BatchNormalization(),\n",
    "        tf.keras.layers.MaxPooling2D(2,2),\n",
    "        tf.keras.layers.Dropout(0.25),\n",
    "\n",
    "        # 1st hidden dense layer\n",
    "        tf.keras.layers.Conv2D(128,(5,5), padding='same', activation='relu'),\n",
    "        tf.keras.layers.BatchNormalization(),\n",
    "        tf.keras.layers.MaxPooling2D(2,2),\n",
    "        tf.keras.layers.Dropout(0.25),\n",
    "    \n",
    "        # 2nd hidden dense layer\n",
    "        tf.keras.layers.Conv2D(512,(3,3), padding='same', activation='relu',kernel_regularizer=tf.keras.regularizers.l2(0.01)),\n",
    "        tf.keras.layers.BatchNormalization(),\n",
    "        tf.keras.layers.MaxPooling2D(2,2),\n",
    "        tf.keras.layers.Dropout(0.25),\n",
    "    \n",
    "        # 3rd hidden dense layer\n",
    "        tf.keras.layers.Conv2D(512,(3,3), padding='same', activation='relu',kernel_regularizer=tf.keras.regularizers.l2(0.01)),\n",
    "        tf.keras.layers.BatchNormalization(),\n",
    "        tf.keras.layers.MaxPooling2D(2,2),\n",
    "        tf.keras.layers.Dropout(0.25),\n",
    "    \n",
    "        # Flatten layer\n",
    "        tf.keras.layers.Flatten(),\n",
    "        tf.keras.layers.Dense(256, activation='relu'),\n",
    "        tf.keras.layers.BatchNormalization(),\n",
    "        tf.keras.layers.Dropout(0.25),\n",
    "    \n",
    "        tf.keras.layers.Dense(512, activation='relu'),\n",
    "        tf.keras.layers.BatchNormalization(),\n",
    "        tf.keras.layers.Dropout(0.25),\n",
    "        # output layer\n",
    "        tf.keras.layers.Dense(7, activation='softmax')\n",
    "    ])"
   ]
  },
  {
   "cell_type": "code",
   "execution_count": 20,
   "metadata": {
    "execution": {
     "iopub.execute_input": "2024-10-28T16:07:11.836587Z",
     "iopub.status.busy": "2024-10-28T16:07:11.836316Z",
     "iopub.status.idle": "2024-10-28T16:07:11.860848Z",
     "shell.execute_reply": "2024-10-28T16:07:11.860014Z",
     "shell.execute_reply.started": "2024-10-28T16:07:11.836562Z"
    },
    "trusted": true
   },
   "outputs": [
    {
     "name": "stdout",
     "output_type": "stream",
     "text": [
      "Model: \"sequential_1\"\n",
      "_________________________________________________________________\n",
      "Layer (type)                 Output Shape              Param #   \n",
      "=================================================================\n",
      "conv2d_5 (Conv2D)            (None, 46, 46, 32)        320       \n",
      "_________________________________________________________________\n",
      "conv2d_6 (Conv2D)            (None, 46, 46, 64)        18496     \n",
      "_________________________________________________________________\n",
      "batch_normalization_6 (Batch (None, 46, 46, 64)        256       \n",
      "_________________________________________________________________\n",
      "max_pooling2d_4 (MaxPooling2 (None, 23, 23, 64)        0         \n",
      "_________________________________________________________________\n",
      "dropout_6 (Dropout)          (None, 23, 23, 64)        0         \n",
      "_________________________________________________________________\n",
      "conv2d_7 (Conv2D)            (None, 23, 23, 128)       204928    \n",
      "_________________________________________________________________\n",
      "batch_normalization_7 (Batch (None, 23, 23, 128)       512       \n",
      "_________________________________________________________________\n",
      "max_pooling2d_5 (MaxPooling2 (None, 11, 11, 128)       0         \n",
      "_________________________________________________________________\n",
      "dropout_7 (Dropout)          (None, 11, 11, 128)       0         \n",
      "_________________________________________________________________\n",
      "conv2d_8 (Conv2D)            (None, 11, 11, 512)       590336    \n",
      "_________________________________________________________________\n",
      "batch_normalization_8 (Batch (None, 11, 11, 512)       2048      \n",
      "_________________________________________________________________\n",
      "max_pooling2d_6 (MaxPooling2 (None, 5, 5, 512)         0         \n",
      "_________________________________________________________________\n",
      "dropout_8 (Dropout)          (None, 5, 5, 512)         0         \n",
      "_________________________________________________________________\n",
      "conv2d_9 (Conv2D)            (None, 5, 5, 512)         2359808   \n",
      "_________________________________________________________________\n",
      "batch_normalization_9 (Batch (None, 5, 5, 512)         2048      \n",
      "_________________________________________________________________\n",
      "max_pooling2d_7 (MaxPooling2 (None, 2, 2, 512)         0         \n",
      "_________________________________________________________________\n",
      "dropout_9 (Dropout)          (None, 2, 2, 512)         0         \n",
      "_________________________________________________________________\n",
      "flatten_1 (Flatten)          (None, 2048)              0         \n",
      "_________________________________________________________________\n",
      "dense_3 (Dense)              (None, 256)               524544    \n",
      "_________________________________________________________________\n",
      "batch_normalization_10 (Batc (None, 256)               1024      \n",
      "_________________________________________________________________\n",
      "dropout_10 (Dropout)         (None, 256)               0         \n",
      "_________________________________________________________________\n",
      "dense_4 (Dense)              (None, 512)               131584    \n",
      "_________________________________________________________________\n",
      "batch_normalization_11 (Batc (None, 512)               2048      \n",
      "_________________________________________________________________\n",
      "dropout_11 (Dropout)         (None, 512)               0         \n",
      "_________________________________________________________________\n",
      "dense_5 (Dense)              (None, 7)                 3591      \n",
      "=================================================================\n",
      "Total params: 3,841,543\n",
      "Trainable params: 3,837,575\n",
      "Non-trainable params: 3,968\n",
      "_________________________________________________________________\n"
     ]
    }
   ],
   "source": [
    "optimiser = tf.keras.optimizers.Adam(lr=0.0001)\n",
    "model.compile(optimizer=optimiser,\n",
    "                  loss='categorical_crossentropy',\n",
    "                  metrics=['accuracy'])\n",
    "\n",
    "model.summary()"
   ]
  },
  {
   "cell_type": "code",
   "execution_count": 21,
   "metadata": {
    "execution": {
     "iopub.execute_input": "2024-10-28T16:07:15.684882Z",
     "iopub.status.busy": "2024-10-28T16:07:15.684511Z",
     "iopub.status.idle": "2024-10-28T16:07:15.688690Z",
     "shell.execute_reply": "2024-10-28T16:07:15.687707Z",
     "shell.execute_reply.started": "2024-10-28T16:07:15.684846Z"
    },
    "trusted": true
   },
   "outputs": [],
   "source": [
    "epochs = 100\n",
    "batch_size = 64"
   ]
  },
  {
   "cell_type": "code",
   "execution_count": 22,
   "metadata": {
    "execution": {
     "iopub.execute_input": "2024-10-28T16:07:22.805883Z",
     "iopub.status.busy": "2024-10-28T16:07:22.805523Z",
     "iopub.status.idle": "2024-10-28T16:58:38.849775Z",
     "shell.execute_reply": "2024-10-28T16:58:38.848839Z",
     "shell.execute_reply.started": "2024-10-28T16:07:22.805851Z"
    },
    "trusted": true
   },
   "outputs": [
    {
     "name": "stdout",
     "output_type": "stream",
     "text": [
      "Epoch 1/100\n",
      "359/359 [==============================] - 104s 285ms/step - loss: 9.6410 - accuracy: 0.1809 - val_loss: 8.7106 - val_accuracy: 0.1439\n",
      "Epoch 2/100\n",
      "359/359 [==============================] - 30s 83ms/step - loss: 8.6203 - accuracy: 0.2077 - val_loss: 7.6310 - val_accuracy: 0.2675\n",
      "Epoch 3/100\n",
      "359/359 [==============================] - 30s 82ms/step - loss: 7.6773 - accuracy: 0.2194 - val_loss: 6.7103 - val_accuracy: 0.2905\n",
      "Epoch 4/100\n",
      "359/359 [==============================] - 31s 87ms/step - loss: 6.7411 - accuracy: 0.2619 - val_loss: 5.8664 - val_accuracy: 0.3338\n",
      "Epoch 5/100\n",
      "359/359 [==============================] - 29s 81ms/step - loss: 5.8413 - accuracy: 0.2978 - val_loss: 5.0211 - val_accuracy: 0.3582\n",
      "Epoch 6/100\n",
      "359/359 [==============================] - 31s 85ms/step - loss: 5.0237 - accuracy: 0.3377 - val_loss: 4.6078 - val_accuracy: 0.3373\n",
      "Epoch 7/100\n",
      "359/359 [==============================] - 28s 79ms/step - loss: 4.3318 - accuracy: 0.3642 - val_loss: 3.7344 - val_accuracy: 0.4302\n",
      "Epoch 8/100\n",
      "359/359 [==============================] - 31s 87ms/step - loss: 3.7714 - accuracy: 0.3888 - val_loss: 3.2304 - val_accuracy: 0.4658\n",
      "Epoch 9/100\n",
      "359/359 [==============================] - 30s 84ms/step - loss: 3.3021 - accuracy: 0.4092 - val_loss: 2.9150 - val_accuracy: 0.4679\n",
      "Epoch 10/100\n",
      "359/359 [==============================] - 31s 86ms/step - loss: 2.9355 - accuracy: 0.4328 - val_loss: 2.5687 - val_accuracy: 0.5007\n",
      "Epoch 11/100\n",
      "359/359 [==============================] - 30s 84ms/step - loss: 2.6430 - accuracy: 0.4541 - val_loss: 2.3650 - val_accuracy: 0.5063\n",
      "Epoch 12/100\n",
      "359/359 [==============================] - 33s 91ms/step - loss: 2.4078 - accuracy: 0.4685 - val_loss: 2.1702 - val_accuracy: 0.5258\n",
      "Epoch 13/100\n",
      "359/359 [==============================] - 30s 83ms/step - loss: 2.2263 - accuracy: 0.4889 - val_loss: 1.9478 - val_accuracy: 0.5545\n",
      "Epoch 14/100\n",
      "359/359 [==============================] - 31s 85ms/step - loss: 2.0770 - accuracy: 0.5033 - val_loss: 1.9672 - val_accuracy: 0.5342\n",
      "Epoch 15/100\n",
      "359/359 [==============================] - 30s 83ms/step - loss: 1.9673 - accuracy: 0.5127 - val_loss: 1.7861 - val_accuracy: 0.5698\n",
      "Epoch 16/100\n",
      "359/359 [==============================] - 30s 83ms/step - loss: 1.8539 - accuracy: 0.5323 - val_loss: 1.6707 - val_accuracy: 0.5859\n",
      "Epoch 17/100\n",
      "359/359 [==============================] - 29s 80ms/step - loss: 1.7876 - accuracy: 0.5361 - val_loss: 1.6693 - val_accuracy: 0.5838\n",
      "Epoch 18/100\n",
      "359/359 [==============================] - 30s 83ms/step - loss: 1.7229 - accuracy: 0.5449 - val_loss: 1.6172 - val_accuracy: 0.5754\n",
      "Epoch 19/100\n",
      "359/359 [==============================] - 31s 85ms/step - loss: 1.6751 - accuracy: 0.5493 - val_loss: 1.5611 - val_accuracy: 0.5880\n",
      "Epoch 20/100\n",
      "359/359 [==============================] - 31s 85ms/step - loss: 1.6289 - accuracy: 0.5548 - val_loss: 1.5395 - val_accuracy: 0.5859\n",
      "Epoch 21/100\n",
      "359/359 [==============================] - 29s 82ms/step - loss: 1.5726 - accuracy: 0.5731 - val_loss: 1.4852 - val_accuracy: 0.6006\n",
      "Epoch 22/100\n",
      "359/359 [==============================] - 30s 82ms/step - loss: 1.5629 - accuracy: 0.5700 - val_loss: 1.4592 - val_accuracy: 0.6152\n",
      "Epoch 23/100\n",
      "359/359 [==============================] - 29s 80ms/step - loss: 1.5399 - accuracy: 0.5750 - val_loss: 1.5432 - val_accuracy: 0.5740\n",
      "Epoch 24/100\n",
      "359/359 [==============================] - 31s 87ms/step - loss: 1.5136 - accuracy: 0.5888 - val_loss: 1.4770 - val_accuracy: 0.6034\n",
      "Epoch 25/100\n",
      "359/359 [==============================] - 30s 83ms/step - loss: 1.4884 - accuracy: 0.5923 - val_loss: 1.4848 - val_accuracy: 0.5978\n",
      "Epoch 26/100\n",
      "359/359 [==============================] - 31s 86ms/step - loss: 1.4992 - accuracy: 0.5858 - val_loss: 1.4610 - val_accuracy: 0.6047\n",
      "Epoch 27/100\n",
      "359/359 [==============================] - 30s 82ms/step - loss: 1.4707 - accuracy: 0.5967 - val_loss: 1.4763 - val_accuracy: 0.5859\n",
      "Epoch 28/100\n",
      "359/359 [==============================] - 30s 83ms/step - loss: 1.4559 - accuracy: 0.6018 - val_loss: 1.3908 - val_accuracy: 0.6222\n",
      "Epoch 29/100\n",
      "359/359 [==============================] - 29s 80ms/step - loss: 1.4359 - accuracy: 0.6068 - val_loss: 1.3713 - val_accuracy: 0.6418\n",
      "Epoch 30/100\n",
      "359/359 [==============================] - 31s 87ms/step - loss: 1.4323 - accuracy: 0.6067 - val_loss: 1.3831 - val_accuracy: 0.6390\n",
      "Epoch 31/100\n",
      "359/359 [==============================] - 31s 85ms/step - loss: 1.4235 - accuracy: 0.6120 - val_loss: 1.3835 - val_accuracy: 0.6362\n",
      "Epoch 32/100\n",
      "359/359 [==============================] - 30s 83ms/step - loss: 1.4271 - accuracy: 0.6149 - val_loss: 1.3773 - val_accuracy: 0.6257\n",
      "Epoch 33/100\n",
      "359/359 [==============================] - 29s 82ms/step - loss: 1.4108 - accuracy: 0.6179 - val_loss: 1.3994 - val_accuracy: 0.6341\n",
      "Epoch 34/100\n",
      "359/359 [==============================] - 30s 83ms/step - loss: 1.4031 - accuracy: 0.6254 - val_loss: 1.3830 - val_accuracy: 0.6439\n",
      "Epoch 35/100\n",
      "359/359 [==============================] - 29s 80ms/step - loss: 1.3964 - accuracy: 0.6261 - val_loss: 1.3997 - val_accuracy: 0.6292\n",
      "Epoch 36/100\n",
      "359/359 [==============================] - 31s 87ms/step - loss: 1.3895 - accuracy: 0.6307 - val_loss: 1.3599 - val_accuracy: 0.6578\n",
      "Epoch 37/100\n",
      "359/359 [==============================] - 29s 80ms/step - loss: 1.3965 - accuracy: 0.6333 - val_loss: 1.3865 - val_accuracy: 0.6522\n",
      "Epoch 38/100\n",
      "359/359 [==============================] - 30s 84ms/step - loss: 1.3820 - accuracy: 0.6352 - val_loss: 1.3531 - val_accuracy: 0.6564\n",
      "Epoch 39/100\n",
      "359/359 [==============================] - 29s 80ms/step - loss: 1.3657 - accuracy: 0.6468 - val_loss: 1.3326 - val_accuracy: 0.6641\n",
      "Epoch 40/100\n",
      "359/359 [==============================] - 31s 87ms/step - loss: 1.3788 - accuracy: 0.6387 - val_loss: 1.3700 - val_accuracy: 0.6508\n",
      "Epoch 41/100\n",
      "359/359 [==============================] - 29s 82ms/step - loss: 1.3588 - accuracy: 0.6437 - val_loss: 1.3522 - val_accuracy: 0.6648\n",
      "Epoch 42/100\n",
      "359/359 [==============================] - 32s 88ms/step - loss: 1.3653 - accuracy: 0.6445 - val_loss: 1.3642 - val_accuracy: 0.6585\n",
      "Epoch 43/100\n",
      "359/359 [==============================] - 31s 85ms/step - loss: 1.3553 - accuracy: 0.6442 - val_loss: 1.3564 - val_accuracy: 0.6578\n",
      "Epoch 44/100\n",
      "359/359 [==============================] - 32s 88ms/step - loss: 1.3624 - accuracy: 0.6492 - val_loss: 1.3908 - val_accuracy: 0.6446\n",
      "Epoch 45/100\n",
      "359/359 [==============================] - 29s 82ms/step - loss: 1.3588 - accuracy: 0.6482 - val_loss: 1.4023 - val_accuracy: 0.6278\n",
      "Epoch 46/100\n",
      "359/359 [==============================] - 30s 85ms/step - loss: 1.3646 - accuracy: 0.6467 - val_loss: 1.3688 - val_accuracy: 0.6466\n",
      "Epoch 47/100\n",
      "359/359 [==============================] - 29s 79ms/step - loss: 1.3581 - accuracy: 0.6467 - val_loss: 1.3606 - val_accuracy: 0.6487\n",
      "Epoch 48/100\n",
      "359/359 [==============================] - 30s 83ms/step - loss: 1.3469 - accuracy: 0.6551 - val_loss: 1.3480 - val_accuracy: 0.6634\n",
      "Epoch 49/100\n",
      "359/359 [==============================] - 29s 80ms/step - loss: 1.3484 - accuracy: 0.6545 - val_loss: 1.3758 - val_accuracy: 0.6550\n",
      "Epoch 50/100\n",
      "359/359 [==============================] - 29s 82ms/step - loss: 1.3408 - accuracy: 0.6527 - val_loss: 1.3479 - val_accuracy: 0.6641\n",
      "Epoch 51/100\n",
      "359/359 [==============================] - 28s 78ms/step - loss: 1.3440 - accuracy: 0.6624 - val_loss: 1.3538 - val_accuracy: 0.6697\n",
      "Epoch 52/100\n",
      "359/359 [==============================] - 31s 85ms/step - loss: 1.3445 - accuracy: 0.6502 - val_loss: 1.3927 - val_accuracy: 0.6592\n",
      "Epoch 53/100\n",
      "359/359 [==============================] - 30s 85ms/step - loss: 1.3399 - accuracy: 0.6657 - val_loss: 1.3541 - val_accuracy: 0.6711\n",
      "Epoch 54/100\n",
      "359/359 [==============================] - 33s 93ms/step - loss: 1.3293 - accuracy: 0.6699 - val_loss: 1.3486 - val_accuracy: 0.6697\n",
      "Epoch 55/100\n",
      "359/359 [==============================] - 31s 87ms/step - loss: 1.3333 - accuracy: 0.6669 - val_loss: 1.3970 - val_accuracy: 0.6571\n",
      "Epoch 56/100\n",
      "359/359 [==============================] - 30s 84ms/step - loss: 1.3246 - accuracy: 0.6712 - val_loss: 1.3771 - val_accuracy: 0.6739\n",
      "Epoch 57/100\n",
      "359/359 [==============================] - 31s 85ms/step - loss: 1.3315 - accuracy: 0.6657 - val_loss: 1.3531 - val_accuracy: 0.6788\n",
      "Epoch 58/100\n",
      "359/359 [==============================] - 29s 82ms/step - loss: 1.3226 - accuracy: 0.6747 - val_loss: 1.3879 - val_accuracy: 0.6529\n",
      "Epoch 59/100\n",
      "359/359 [==============================] - 30s 83ms/step - loss: 1.3214 - accuracy: 0.6756 - val_loss: 1.3974 - val_accuracy: 0.6592\n",
      "Epoch 60/100\n",
      "359/359 [==============================] - 30s 84ms/step - loss: 1.3164 - accuracy: 0.6776 - val_loss: 1.3405 - val_accuracy: 0.6732\n",
      "Epoch 61/100\n",
      "359/359 [==============================] - 31s 87ms/step - loss: 1.3339 - accuracy: 0.6700 - val_loss: 1.3575 - val_accuracy: 0.6760\n",
      "Epoch 62/100\n",
      "359/359 [==============================] - 32s 88ms/step - loss: 1.3214 - accuracy: 0.6783 - val_loss: 1.3678 - val_accuracy: 0.6669\n",
      "Epoch 63/100\n",
      "359/359 [==============================] - 32s 90ms/step - loss: 1.3276 - accuracy: 0.6763 - val_loss: 1.3605 - val_accuracy: 0.6795\n",
      "Epoch 64/100\n",
      "359/359 [==============================] - 32s 89ms/step - loss: 1.3301 - accuracy: 0.6711 - val_loss: 1.3422 - val_accuracy: 0.6892\n",
      "Epoch 65/100\n",
      "359/359 [==============================] - 31s 87ms/step - loss: 1.3191 - accuracy: 0.6800 - val_loss: 1.3843 - val_accuracy: 0.6739\n",
      "Epoch 66/100\n",
      "359/359 [==============================] - 31s 86ms/step - loss: 1.3067 - accuracy: 0.6829 - val_loss: 1.3727 - val_accuracy: 0.6711\n",
      "Epoch 67/100\n",
      "359/359 [==============================] - 32s 88ms/step - loss: 1.3203 - accuracy: 0.6782 - val_loss: 1.3698 - val_accuracy: 0.6550\n",
      "Epoch 68/100\n",
      "359/359 [==============================] - 29s 81ms/step - loss: 1.3178 - accuracy: 0.6805 - val_loss: 1.3663 - val_accuracy: 0.6830\n",
      "Epoch 69/100\n",
      "359/359 [==============================] - 31s 86ms/step - loss: 1.3245 - accuracy: 0.6803 - val_loss: 1.3775 - val_accuracy: 0.6697\n",
      "Epoch 70/100\n",
      "359/359 [==============================] - 30s 83ms/step - loss: 1.3108 - accuracy: 0.6860 - val_loss: 1.4072 - val_accuracy: 0.6599\n",
      "Epoch 71/100\n",
      "359/359 [==============================] - 30s 82ms/step - loss: 1.3127 - accuracy: 0.6813 - val_loss: 1.3666 - val_accuracy: 0.6788\n",
      "Epoch 72/100\n",
      "359/359 [==============================] - 28s 78ms/step - loss: 1.3130 - accuracy: 0.6848 - val_loss: 1.3782 - val_accuracy: 0.6906\n",
      "Epoch 73/100\n",
      "359/359 [==============================] - 30s 85ms/step - loss: 1.3122 - accuracy: 0.6876 - val_loss: 1.3358 - val_accuracy: 0.6795\n",
      "Epoch 74/100\n",
      "359/359 [==============================] - 29s 81ms/step - loss: 1.2968 - accuracy: 0.6858 - val_loss: 1.3962 - val_accuracy: 0.6690\n",
      "Epoch 75/100\n",
      "359/359 [==============================] - 30s 83ms/step - loss: 1.3111 - accuracy: 0.6881 - val_loss: 1.4058 - val_accuracy: 0.6690\n",
      "Epoch 76/100\n",
      "359/359 [==============================] - 29s 80ms/step - loss: 1.2987 - accuracy: 0.6884 - val_loss: 1.4387 - val_accuracy: 0.6578\n",
      "Epoch 77/100\n",
      "359/359 [==============================] - 29s 82ms/step - loss: 1.3135 - accuracy: 0.6870 - val_loss: 1.3882 - val_accuracy: 0.6732\n",
      "Epoch 78/100\n",
      "359/359 [==============================] - 29s 82ms/step - loss: 1.3010 - accuracy: 0.6973 - val_loss: 1.4219 - val_accuracy: 0.6620\n",
      "Epoch 79/100\n",
      "359/359 [==============================] - 30s 82ms/step - loss: 1.3113 - accuracy: 0.6927 - val_loss: 1.3712 - val_accuracy: 0.6753\n",
      "Epoch 80/100\n",
      "359/359 [==============================] - 29s 80ms/step - loss: 1.3090 - accuracy: 0.6948 - val_loss: 1.3569 - val_accuracy: 0.6899\n",
      "Epoch 81/100\n",
      "359/359 [==============================] - 29s 80ms/step - loss: 1.2984 - accuracy: 0.6922 - val_loss: 1.3832 - val_accuracy: 0.6732\n",
      "Epoch 82/100\n",
      "359/359 [==============================] - 29s 81ms/step - loss: 1.3083 - accuracy: 0.6929 - val_loss: 1.4083 - val_accuracy: 0.6781\n",
      "Epoch 83/100\n",
      "359/359 [==============================] - 29s 81ms/step - loss: 1.3119 - accuracy: 0.6948 - val_loss: 1.4190 - val_accuracy: 0.6725\n",
      "Epoch 84/100\n",
      "359/359 [==============================] - 30s 83ms/step - loss: 1.2968 - accuracy: 0.6983 - val_loss: 1.3997 - val_accuracy: 0.6641\n",
      "Epoch 85/100\n",
      "359/359 [==============================] - 30s 83ms/step - loss: 1.3027 - accuracy: 0.6971 - val_loss: 1.3585 - val_accuracy: 0.6858\n",
      "Epoch 86/100\n",
      "359/359 [==============================] - 30s 84ms/step - loss: 1.2895 - accuracy: 0.6983 - val_loss: 1.3662 - val_accuracy: 0.6844\n",
      "Epoch 87/100\n",
      "359/359 [==============================] - 29s 80ms/step - loss: 1.2887 - accuracy: 0.7017 - val_loss: 1.3817 - val_accuracy: 0.6690\n",
      "Epoch 88/100\n",
      "359/359 [==============================] - 29s 82ms/step - loss: 1.2976 - accuracy: 0.7050 - val_loss: 1.3679 - val_accuracy: 0.6746\n",
      "Epoch 89/100\n",
      "359/359 [==============================] - 30s 84ms/step - loss: 1.2973 - accuracy: 0.6974 - val_loss: 1.3631 - val_accuracy: 0.6823\n",
      "Epoch 90/100\n",
      "359/359 [==============================] - 29s 81ms/step - loss: 1.2990 - accuracy: 0.7002 - val_loss: 1.3647 - val_accuracy: 0.6872\n",
      "Epoch 91/100\n",
      "359/359 [==============================] - 31s 87ms/step - loss: 1.2945 - accuracy: 0.7004 - val_loss: 1.3911 - val_accuracy: 0.6732\n",
      "Epoch 92/100\n",
      "359/359 [==============================] - 30s 82ms/step - loss: 1.2905 - accuracy: 0.7012 - val_loss: 1.4553 - val_accuracy: 0.6739\n",
      "Epoch 93/100\n",
      "359/359 [==============================] - 28s 79ms/step - loss: 1.2990 - accuracy: 0.7001 - val_loss: 1.3710 - val_accuracy: 0.6795\n",
      "Epoch 94/100\n",
      "359/359 [==============================] - 30s 83ms/step - loss: 1.2808 - accuracy: 0.7055 - val_loss: 1.3857 - val_accuracy: 0.6767\n",
      "Epoch 95/100\n",
      "359/359 [==============================] - 29s 80ms/step - loss: 1.2839 - accuracy: 0.7087 - val_loss: 1.3533 - val_accuracy: 0.6955\n",
      "Epoch 96/100\n",
      "359/359 [==============================] - 30s 83ms/step - loss: 1.2976 - accuracy: 0.7054 - val_loss: 1.3805 - val_accuracy: 0.6774\n",
      "Epoch 97/100\n",
      "359/359 [==============================] - 28s 78ms/step - loss: 1.2985 - accuracy: 0.6991 - val_loss: 1.4442 - val_accuracy: 0.6529\n",
      "Epoch 98/100\n",
      "359/359 [==============================] - 31s 86ms/step - loss: 1.2639 - accuracy: 0.7115 - val_loss: 1.3946 - val_accuracy: 0.6878\n",
      "Epoch 99/100\n",
      "359/359 [==============================] - 30s 83ms/step - loss: 1.2970 - accuracy: 0.7051 - val_loss: 1.4113 - val_accuracy: 0.6795\n",
      "Epoch 100/100\n",
      "359/359 [==============================] - 32s 90ms/step - loss: 1.2794 - accuracy: 0.7103 - val_loss: 1.3985 - val_accuracy: 0.6767\n"
     ]
    }
   ],
   "source": [
    "history = model.fit(x = train_generator,epochs = epochs,validation_data = validation_generator)"
   ]
  },
  {
   "cell_type": "code",
   "execution_count": 23,
   "metadata": {
    "execution": {
     "iopub.execute_input": "2024-10-28T16:59:28.827351Z",
     "iopub.status.busy": "2024-10-28T16:59:28.826967Z",
     "iopub.status.idle": "2024-10-28T16:59:29.163787Z",
     "shell.execute_reply": "2024-10-28T16:59:29.162953Z",
     "shell.execute_reply.started": "2024-10-28T16:59:28.827314Z"
    },
    "trusted": true
   },
   "outputs": [
    {
     "data": {
      "image/png": "[encoded data removed]",
      "text/plain": [
       "<Figure size 432x288 with 1 Axes>"
      ]
     },
     "metadata": {
      "needs_background": "light"
     },
     "output_type": "display_data"
    },
    {
     "data": {
      "text/plain": [
       "<Figure size 432x288 with 0 Axes>"
      ]
     },
     "metadata": {},
     "output_type": "display_data"
    },
    {
     "data": {
      "image/png": "[encoded data removed]",
      "text/plain": [
       "<Figure size 432x288 with 1 Axes>"
      ]
     },
     "metadata": {
      "needs_background": "light"
     },
     "output_type": "display_data"
    }
   ],
   "source": [
    "import matplotlib.pyplot as plt\n",
    "accuracy = history.history['accuracy']\n",
    "val_acc = history.history['val_accuracy']\n",
    "loss = history.history['loss']\n",
    "val_loss = history.history['val_loss']\n",
    "\n",
    "epochs = range(len(accuracy))\n",
    "\n",
    "plt.plot(epochs, accuracy, 'r', label='Training accuracy')\n",
    "plt.plot(epochs, val_acc, 'b', label='Validation accuracy')\n",
    "plt.title('Training and validation accuracy')\n",
    "plt.legend(loc=0)\n",
    "plt.figure()\n",
    "\n",
    "\n",
    "plt.show()\n",
    "\n",
    "\n",
    "\n",
    "plt.plot(epochs, loss, 'r', label='Training loss')\n",
    "plt.plot(epochs, val_loss, 'b', label='Validation loss')\n",
    "plt.title('Training and validation loss')\n",
    "plt.legend(loc=0)\n",
    "plt.show()"
   ]
  },
  {
   "cell_type": "code",
   "execution_count": 24,
   "metadata": {
    "execution": {
     "iopub.execute_input": "2024-10-28T16:59:36.106454Z",
     "iopub.status.busy": "2024-10-28T16:59:36.105699Z",
     "iopub.status.idle": "2024-10-28T16:59:36.259615Z",
     "shell.execute_reply": "2024-10-28T16:59:36.258673Z",
     "shell.execute_reply.started": "2024-10-28T16:59:36.106405Z"
    },
    "trusted": true
   },
   "outputs": [],
   "source": [
    "model.save('model_fer2013.h5')"
   ]
  },
  {
   "cell_type": "code",
   "execution_count": 25,
   "metadata": {
    "execution": {
     "iopub.execute_input": "2024-10-28T16:59:38.501642Z",
     "iopub.status.busy": "2024-10-28T16:59:38.501258Z",
     "iopub.status.idle": "2024-10-28T17:00:07.666842Z",
     "shell.execute_reply": "2024-10-28T17:00:07.665997Z",
     "shell.execute_reply.started": "2024-10-28T16:59:38.501602Z"
    },
    "trusted": true
   },
   "outputs": [
    {
     "name": "stdout",
     "output_type": "stream",
     "text": [
      "359/359 [==============================] - 28s 77ms/step - loss: 1.1379 - accuracy: 0.7647\n",
      "23/23 [==============================] - 1s 56ms/step - loss: 1.3985 - accuracy: 0.6767\n",
      "final train accuracy = 76.47 , validation accuracy = 67.67\n"
     ]
    }
   ],
   "source": [
    "train_loss, train_acc = model.evaluate(train_generator)\n",
    "test_loss, test_acc   = model.evaluate(validation_generator)\n",
    "print(\"final train accuracy = {:.2f} , validation accuracy = {:.2f}\".format(train_acc*100, test_acc*100))"
   ]
  },
  {
   "cell_type": "code",
   "execution_count": 26,
   "metadata": {
    "execution": {
     "iopub.execute_input": "2024-10-28T17:00:11.445013Z",
     "iopub.status.busy": "2024-10-28T17:00:11.444643Z",
     "iopub.status.idle": "2024-10-28T17:00:11.577747Z",
     "shell.execute_reply": "2024-10-28T17:00:11.577040Z",
     "shell.execute_reply.started": "2024-10-28T17:00:11.444975Z"
    },
    "trusted": true
   },
   "outputs": [
    {
     "name": "stdout",
     "output_type": "stream",
     "text": [
      "(48, 48)\n"
     ]
    },
    {
     "data": {
      "image/png": "[encoded data removed]",
      "text/plain": [
       "<Figure size 432x288 with 1 Axes>"
      ]
     },
     "metadata": {
      "needs_background": "light"
     },
     "output_type": "display_data"
    }
   ],
   "source": [
    "img = image.load_img(\"/kaggle/input/fer2013/test/fear/PrivateTest_11014592.jpg\",target_size = (48,48),color_mode = \"grayscale\")\n",
    "img = np.array(img)\n",
    "plt.imshow(img)\n",
    "print(img.shape)"
   ]
  },
  {
   "cell_type": "code",
   "execution_count": 29,
   "metadata": {
    "execution": {
     "iopub.execute_input": "2024-10-28T17:00:17.065687Z",
     "iopub.status.busy": "2024-10-28T17:00:17.065353Z",
     "iopub.status.idle": "2024-10-28T17:00:17.069965Z",
     "shell.execute_reply": "2024-10-28T17:00:17.069031Z",
     "shell.execute_reply.started": "2024-10-28T17:00:17.065658Z"
    },
    "trusted": true
   },
   "outputs": [],
   "source": [
    "label_dict = {0:'Angry',1:'Disgust',2:'Fear',3:'Happy',4:'Neutral',5:'Sad',6:'Surprise'}"
   ]
  },
  {
   "cell_type": "code",
   "execution_count": 30,
   "metadata": {
    "execution": {
     "iopub.execute_input": "2024-10-28T17:00:18.705675Z",
     "iopub.status.busy": "2024-10-28T17:00:18.705318Z",
     "iopub.status.idle": "2024-10-28T17:00:18.962933Z",
     "shell.execute_reply": "2024-10-28T17:00:18.961980Z",
     "shell.execute_reply.started": "2024-10-28T17:00:18.705639Z"
    },
    "trusted": true
   },
   "outputs": [
    {
     "name": "stdout",
     "output_type": "stream",
     "text": [
      "[0.0, 0.0, 1.0, 0.0, 0.0, 1.4416294e-34, 0.0]\n"
     ]
    }
   ],
   "source": [
    "img = np.expand_dims(img,axis = 0) #makes image shape (1,48,48)\n",
    "img = img.reshape(1,48,48,1)\n",
    "result = model.predict(img)\n",
    "result = list(result[0])\n",
    "print(result)"
   ]
  },
  {
   "cell_type": "code",
   "execution_count": 31,
   "metadata": {
    "execution": {
     "iopub.execute_input": "2024-10-28T17:00:28.608293Z",
     "iopub.status.busy": "2024-10-28T17:00:28.607961Z",
     "iopub.status.idle": "2024-10-28T17:00:28.613462Z",
     "shell.execute_reply": "2024-10-28T17:00:28.612456Z",
     "shell.execute_reply.started": "2024-10-28T17:00:28.608266Z"
    },
    "trusted": true
   },
   "outputs": [
    {
     "name": "stdout",
     "output_type": "stream",
     "text": [
      "Fear\n"
     ]
    }
   ],
   "source": [
    "img_index = result.index(max(result))\n",
    "print(label_dict[img_index])\n",
    "plt.show()"
   ]
  },
  {
   "cell_type": "code",
   "execution_count": null,
   "metadata": {
    "execution": {
     "iopub.execute_input": "2021-08-24T14:11:55.693807Z",
     "iopub.status.busy": "2021-08-24T14:11:55.693377Z",
     "iopub.status.idle": "2021-08-24T14:11:55.764649Z",
     "shell.execute_reply": "2021-08-24T14:11:55.763492Z",
     "shell.execute_reply.started": "2021-08-24T14:11:55.693779Z"
    },
    "trusted": true
   },
   "outputs": [],
   "source": [
    "model.save_weights('model_weights.h5')"
   ]
  },
  {
   "cell_type": "code",
   "execution_count": null,
   "metadata": {},
   "outputs": [],
   "source": []
  }
 ],
 "metadata": {
  "kaggle": {
   "accelerator": "gpu",
   "dataSources": [
    {
     "datasetId": 786787,
     "sourceId": 1351797,
     "sourceType": "datasetVersion"
    }
   ],
   "dockerImageVersionId": 30120,
   "isGpuEnabled": true,
   "isInternetEnabled": true,
   "language": "python",
   "sourceType": "notebook"
  },
  "kernelspec": {
   "display_name": "Python 3",
   "language": "python",
   "name": "python3"
  },
  "language_info": {
   "codemirror_mode": {
    "name": "ipython",
    "version": 3
   },
   "file_extension": ".py",
   "mimetype": "text/x-python",
   "name": "python",
   "nbconvert_exporter": "python",
   "pygments_lexer": "ipython3",
   "version": "3.7.10"
  }
 },
 "nbformat": 4,
 "nbformat_minor": 4
}
